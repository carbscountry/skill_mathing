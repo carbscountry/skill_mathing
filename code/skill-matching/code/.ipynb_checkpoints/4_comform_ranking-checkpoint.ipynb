{
 "cells": [
  {
   "cell_type": "code",
   "execution_count": null,
   "metadata": {
    "tags": []
   },
   "outputs": [],
   "source": [
    "import os,sys,re\n",
    "import csv\n",
    "import pandas as pd\n",
    "import numpy as np\n",
    "import codecs\n",
    "import warnings\n",
    "warnings.simplefilter('ignore')\n",
    "from tqdm.autonotebook import tqdm\n",
    "    \n",
    "import json\n",
    "\n",
    "\n",
    "import openpyxl\n"
   ]
  },
  {
   "cell_type": "markdown",
   "metadata": {},
   "source": [
    "## データのロード"
   ]
  },
  {
   "cell_type": "code",
   "execution_count": null,
   "metadata": {
    "tags": []
   },
   "outputs": [],
   "source": [
    "#base-path\n",
    "path = r\"/workspace\"\n",
    "data_path = os.path.join(path,\"data\")"
   ]
  },
  {
   "cell_type": "code",
   "execution_count": null,
   "metadata": {
    "tags": []
   },
   "outputs": [],
   "source": [
    "with open(os.path.join(data_path,'output/ranking/WMD/cv_JDs_wmd.json'),\"r\") as f:\n",
    "    JDs_wmd = json.load(f)\n",
    "with open(os.path.join(data_path,'output/ranking/WMD/cv_DE_wmd.json'),\"r\") as f:\n",
    "    DE_wmd = json.load(f)\n",
    "\n",
    "with open(os.path.join(data_path,\"output/marge_json/marge_cv.json\"),\"r\") as f:\n",
    "    cv = json.load(f)\n",
    "\n",
    "with open(os.path.join(data_path,\"output/marge_json/marge_JDs.json\"),\"r\") as f:\n",
    "    JDs = json.load(f)\n",
    "\n",
    "with open(os.path.join(data_path,\"output/marge_json/marge_DataEngineer.json\"),\"r\") as f:\n",
    "    DE = json.load(f)"
   ]
  },
  {
   "cell_type": "code",
   "execution_count": null,
   "metadata": {
    "tags": []
   },
   "outputs": [],
   "source": [
    "#wmdの値が小さい順にソート\n",
    "sord_JDs_wmd = {}\n",
    "for _key in JDs_wmd.keys():\n",
    "    sord_JDs_wmd[_key] = sorted(JDs_wmd[_key].items(), key=lambda x:x[1])"
   ]
  },
  {
   "cell_type": "code",
   "execution_count": null,
   "metadata": {
    "tags": []
   },
   "outputs": [],
   "source": [
    "# ブックを作成\n",
    "wb = openpyxl.Workbook()\n",
    "wb.create_sheet(index=1, title='wmd_JDs_text')\n",
    "sheet = wb['wmd_JDs_text']\n",
    "\n",
    "\n",
    "#エクセルに書き込み\n",
    "count = 0\n",
    "#indexの書き込み\n",
    "sheet[\"A1\"] = \"cv_keys\"\n",
    "sheet[\"A2\"] = \"cv_txts\"\n",
    "for num_cv,i in zip(sord_JDs_wmd.keys(),range(len(sord_JDs_wmd))):\n",
    "    \n",
    "    sheet[f\"{chr(66+i)}1\"] = num_cv #cvのキーをA列に書き込み\n",
    "    sheet[f\"{chr(66+i)}2\"] =  cv[num_cv][\"text\"]#cvをB列に書き込み\n",
    "    cols_num = 66+i\n",
    "    #JDsを書き込み\n",
    "    for n,value_list in enumerate(sord_JDs_wmd[num_cv][:10]):\n",
    "        try:\n",
    "            sheet[f\"A{n+3}\"] = f\"top_{n+1}\"\n",
    "            sheet[f\"{chr(66+i)}{n+3}\"] =  JDs[value_list[0]][\"text\"]\n",
    "        except:\n",
    "            print(value_list[0])\n",
    "            continue\n",
    "    \n",
    "    #下位10の求人をコピペ\n",
    "    for j,value_list in enumerate(sord_JDs_wmd[num_cv][-9:]):\n",
    "        try:\n",
    "            sheet[f\"A{n+4+j}\"] = f\"lower_{j+1}\"\n",
    "            sheet[f\"{chr(66+i)}{n+4+j}\"] =  JDs[value_list[0]][\"text\"]\n",
    "        except:\n",
    "            print(value_list[0])\n",
    "            continue\n",
    "wb.save(os.path.join(data_path,'output/ranking/WMD/eva_wmd.xlsx'))"
   ]
  }
 ],
 "metadata": {
  "kernelspec": {
   "display_name": "Python 3 (ipykernel)",
   "language": "python",
   "name": "python3"
  },
  "language_info": {
   "codemirror_mode": {
    "name": "ipython",
    "version": 3
   },
   "file_extension": ".py",
   "mimetype": "text/x-python",
   "name": "python",
   "nbconvert_exporter": "python",
   "pygments_lexer": "ipython3",
   "version": "3.9.16"
  },
  "vscode": {
   "interpreter": {
    "hash": "08bab3d115f66d421a5714c32a33264a27cd931d9c4fac1dbdcf754479af7214"
   }
  }
 },
 "nbformat": 4,
 "nbformat_minor": 4
}
