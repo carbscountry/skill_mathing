{
 "cells": [
  {
   "cell_type": "code",
   "execution_count": null,
   "id": "eff7e084-26f1-48b1-bc85-300d0bfe11ac",
   "metadata": {
    "tags": []
   },
   "outputs": [],
   "source": [
    "import os,sys,re\n",
    "import pandas as pd\n",
    "import numpy as np\n",
    "from tqdm.notebook import tqdm\n",
    "import codecs\n",
    "import warnings\n",
    "warnings.simplefilter('ignore')\n",
    "import glob"
   ]
  },
  {
   "cell_type": "code",
   "execution_count": null,
   "id": "5c64ac05-d21b-4f52-8806-3d3b64e7df94",
   "metadata": {
    "tags": []
   },
   "outputs": [],
   "source": [
    "#ファイルのロード\n",
    "dir = \"/workspace/data/input\"\n",
    "os.chdir(\"/workspace/data/input/resume_corpus/\")\n",
    "text_files = glob.glob(\"*.txt\")\n",
    "lab_files = glob.glob(\"*.lab\")"
   ]
  },
  {
   "cell_type": "code",
   "execution_count": null,
   "id": "d6ba5d60-c32b-4da2-80d5-aef6d41f308f",
   "metadata": {
    "tags": []
   },
   "outputs": [],
   "source": [
    "text_data = list(np.zeros(np.array(text_files).shape).astype(str)) #.txtファイルのデータを入れるリスト\n",
    "text_index_data = np.zeros(np.array(text_files).shape).astype(int) #ファイル番号を入れる配列\n",
    "for i, text_file in enumerate(tqdm(text_files)): \n",
    "    index = int(os.path.splitext(os.path.basename(text_file))[0])\n",
    "    with codecs.open(text_file, \"r\", \"Shift-JIS\", \"ignore\") as f:\n",
    "        text = f.readline()\n",
    "    text_index_data[i] = index\n",
    "    text_data[i] = text"
   ]
  },
  {
   "cell_type": "code",
   "execution_count": null,
   "id": "9f6a59db-e419-4f53-b38d-0115409e6082",
   "metadata": {
    "tags": []
   },
   "outputs": [],
   "source": [
    "lab_data = list(np.zeros(np.array(lab_files).shape).astype(str)) #.labファイルのデータを入れるリスト\n",
    "lab_index_data = np.zeros(np.array(lab_files).shape).astype(int) #ファイル番号を入れる配列\n",
    "for i,lab_file in enumerate(tqdm(lab_files)):\n",
    "    index = int(os.path.splitext(os.path.basename(lab_file))[0])\n",
    "    with codecs.open(lab_file, \"r\", \"Shift-JIS\", \"ignore\") as f:\n",
    "        text = f.readlines()\n",
    "    lab_index_data[i] = index\n",
    "    lab_data[i] = text \n",
    "    for j in range(len(lab_data[i])):\n",
    "        lab_data[i][j] = lab_data[i][j].replace(\"\\n\",\"\")\n",
    "#indexとlabel要素をzipした辞書を作成\n",
    "d = {k: v for k, v in zip(lab_index_data,lab_data)}"
   ]
  },
  {
   "cell_type": "code",
   "execution_count": null,
   "id": "49222849-3f4b-4276-81c3-f92f14da63a8",
   "metadata": {
    "tags": []
   },
   "outputs": [],
   "source": [
    "#ラベルにある職種にidを付与する\n",
    "job2id = {}\n",
    "ind = 0\n",
    "for job in lab_data:\n",
    "    for j in job:\n",
    "        if(j not in job2id):\n",
    "            job2id[j] = ind\n",
    "            ind = ind + 1"
   ]
  },
  {
   "cell_type": "code",
   "execution_count": null,
   "id": "51c92454-18d5-4e0a-bab9-a9834fed54d3",
   "metadata": {
    "tags": []
   },
   "outputs": [],
   "source": [
    "#jobをindに変換\n",
    "for id_key in d.keys():\n",
    "    for i in range(len(d[id_key])):\n",
    "        for (job_id,job) in zip(job2id.keys(),job2id.values()):\n",
    "            d[id_key][i] = d[id_key][i].replace(job_id,str(job))\n",
    "            \n",
    "#labelをone-hot-encodingする\n",
    "onehot_dict = {}\n",
    "for i in range(0,10):\n",
    "    onehot_dict[i] = 0\n",
    "for key in d.keys():\n",
    "    for job_id in d[key]:\n",
    "        if(int(job_id) in job2id.values()): \n",
    "            onehot_dict[int(job_id)] = 1 #該当する職種に0を付与\n",
    "    d[key] = onehot_dict\n",
    "    onehot_dict = {}\n",
    "    # for i in range(0,10):\n",
    "    #     onehot_dict[i] = 0\n"
   ]
  },
  {
   "cell_type": "code",
   "execution_count": null,
   "id": "b2d3f263-7cd9-4d22-bc15-c2254b6aa58a",
   "metadata": {
    "tags": []
   },
   "outputs": [],
   "source": [
    "#作成した辞書をデータフレームに格納\n",
    "df = pd.DataFrame(d).T\n",
    "txt_df = pd.DataFrame(text_data,index=text_index_data,columns=[\"cv\"])\n",
    "_df = pd.merge(df,txt_df,on=df.index)\n",
    "for (x,y) in zip(job2id.values(),job2id.keys()):\n",
    "    _df = _df.rename(columns={x:y})\n",
    "_df.set_index(\"key_0\",inplace=True)"
   ]
  },
  {
   "cell_type": "code",
   "execution_count": null,
   "id": "f9862184-a870-47e0-bacb-b44b170ff90f",
   "metadata": {
    "tags": []
   },
   "outputs": [],
   "source": [
    "_df.to_csv(\"/workspace/data/input/resume_corpus.csv\")"
   ]
  }
 ],
 "metadata": {
  "kernelspec": {
   "display_name": "Python 3 (ipykernel)",
   "language": "python",
   "name": "python3"
  },
  "language_info": {
   "codemirror_mode": {
    "name": "ipython",
    "version": 3
   },
   "file_extension": ".py",
   "mimetype": "text/x-python",
   "name": "python",
   "nbconvert_exporter": "python",
   "pygments_lexer": "ipython3",
   "version": "3.9.16"
  }
 },
 "nbformat": 4,
 "nbformat_minor": 5
}
