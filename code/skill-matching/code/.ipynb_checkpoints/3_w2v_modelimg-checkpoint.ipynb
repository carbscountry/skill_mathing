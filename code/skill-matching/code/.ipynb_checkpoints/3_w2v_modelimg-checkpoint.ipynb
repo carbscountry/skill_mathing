{
 "cells": [
  {
   "cell_type": "code",
   "execution_count": null,
   "metadata": {
    "tags": []
   },
   "outputs": [],
   "source": [
    "import os,sys,re\n",
    "import csv\n",
    "import pandas as pd\n",
    "import numpy as np\n",
    "import warnings\n",
    "warnings.simplefilter('ignore')\n",
    "from tqdm.notebook import tqdm\n",
    "import json\n",
    "from gensim.models import Word2Vec\n"
   ]
  },
  {
   "cell_type": "code",
   "execution_count": null,
   "metadata": {
    "tags": []
   },
   "outputs": [],
   "source": [
    "#base-path\n",
    "path = r\"/workspace\"\n",
    "data_path = os.path.join(path,\"data\")"
   ]
  },
  {
   "cell_type": "markdown",
   "metadata": {},
   "source": [
    "## データのロード"
   ]
  },
  {
   "cell_type": "code",
   "execution_count": null,
   "metadata": {
    "tags": []
   },
   "outputs": [],
   "source": [
    "marge_json_path = os.path.join(path,\"data/output/marge_json/\")\n",
    "\n",
    "with open(os.path.join(marge_json_path,\"marge_cv.json\"),\"r\") as f:\n",
    "    cv_dict = json.load(f)\n",
    "\n",
    "with open(os.path.join(marge_json_path,\"marge_JDs.json\"),\"r\") as f:\n",
    "    JDs_dict = json.load(f)\n",
    "\n",
    "with open(os.path.join(marge_json_path,\"marge_DataEngineer.json\"),\"r\") as f:\n",
    "    DE_dict = json.load(f)"
   ]
  },
  {
   "cell_type": "markdown",
   "metadata": {},
   "source": [
    "## word2vecモデルの作成"
   ]
  },
  {
   "cell_type": "code",
   "execution_count": null,
   "metadata": {
    "tags": []
   },
   "outputs": [],
   "source": [
    "#モデルに食わせるリストの作成\n",
    "w2v_list = []\n",
    "for key in cv_dict.keys():\n",
    "    w2v_list.append(cv_dict[key][\"re_token\"])\n",
    "for key in JDs_dict.keys():\n",
    "    w2v_list.append(JDs_dict[key][\"re_token\"])\n",
    "for key in DE_dict.keys():\n",
    "    w2v_list.append(DE_dict[key][\"re_token\"])"
   ]
  },
  {
   "cell_type": "code",
   "execution_count": null,
   "metadata": {
    "tags": []
   },
   "outputs": [],
   "source": [
    "\n",
    "#モデルの作成\n",
    "model = Word2Vec(sentences=w2v_list, vector_size=300, window=5, min_count=1, workers=4)\n",
    "#格納用のディレクトリ作成\n",
    "!mkdir -p /workspace/data/output/model\n",
    "# 保存\n",
    "model.save(os.path.join(path,f\"data/output/model/w2v.model\"))"
   ]
  },
  {
   "cell_type": "code",
   "execution_count": null,
   "metadata": {
    "tags": []
   },
   "outputs": [],
   "source": [
    "#モデルのロード\n",
    "model = Word2Vec.load(os.path.join(path,f\"data/output/model/w2v.model\"))"
   ]
  },
  {
   "cell_type": "markdown",
   "metadata": {},
   "source": [
    "## word mover's distanceの算出"
   ]
  },
  {
   "cell_type": "markdown",
   "metadata": {},
   "source": [
    "### skillNerで抽出したスキルのうち、re_tokenに含まれていないものは除外"
   ]
  },
  {
   "cell_type": "code",
   "execution_count": null,
   "metadata": {
    "tags": []
   },
   "outputs": [],
   "source": [
    "#skillNerで抽出したスキルのうち、re_tokenに含まれていないものは除外\n",
    "def remove_Nan_skill(_dict):\n",
    "    # list = []\n",
    "    cp_dict = _dict.copy()\n",
    "    for key in tuple(cp_dict.keys()):\n",
    "        for skill in cp_dict[key]['unique_skill']:\n",
    "            if(skill not in  cp_dict[key][\"re_token\"]):\n",
    "                cp_dict[key][\"unique_skill\"].remove(skill)\n",
    "                # print(skill)\n",
    "            #     list.append(skill)\n",
    "            # cp_dict[key]['unique_skill'] = list\n",
    "        if(len(cp_dict[key][\"unique_skill\"]) < 5): #抽出されたスキルが4つ以下のものは除外\n",
    "            del cp_dict[key]\n",
    "    return cp_dict"
   ]
  },
  {
   "cell_type": "code",
   "execution_count": null,
   "metadata": {
    "tags": []
   },
   "outputs": [],
   "source": [
    "r_DE_dict = remove_Nan_skill(DE_dict)\n",
    "r_cv_dict = remove_Nan_skill(cv_dict)\n",
    "r_JDs_dict = remove_Nan_skill(JDs_dict)"
   ]
  },
  {
   "cell_type": "markdown",
   "metadata": {},
   "source": [
    "### Word Mover's Distanceの算出"
   ]
  },
  {
   "cell_type": "code",
   "execution_count": null,
   "metadata": {
    "tags": []
   },
   "outputs": [],
   "source": [
    "#cvとJDs\n",
    "JDs_wmd = dict.fromkeys(cv_dict)\n",
    "for cv_keys in tqdm(cv_dict.keys()):\n",
    "    each_wmd_dict = {}\n",
    "    for JDs_keys in [*JDs_dict.keys()]:\n",
    "        each_wmd_dict[JDs_keys] = model.wv.wmdistance(cv_dict[cv_keys]['re_token'],JDs_dict[JDs_keys]['re_token'])\n",
    "    JDs_wmd[cv_keys] = each_wmd_dict"
   ]
  },
  {
   "cell_type": "code",
   "execution_count": null,
   "metadata": {
    "tags": []
   },
   "outputs": [],
   "source": [
    "#cvとJDs　64分かかります\n",
    "DE_wmd = dict.fromkeys(cv_dict)\n",
    "for cv_keys in tqdm(cv_dict.keys()):\n",
    "    each_wmd_dict = {}\n",
    "    for DE_keys in DE_dict.keys():\n",
    "        each_wmd_dict[DE_keys] = model.wv.wmdistance(cv_dict[cv_keys]['re_token'],DE_dict[DE_keys]['re_token'])\n",
    "    DE_wmd[cv_keys] = each_wmd_dict"
   ]
  },
  {
   "cell_type": "code",
   "execution_count": null,
   "metadata": {
    "tags": []
   },
   "outputs": [],
   "source": [
    "#格納用のディレクトリの作成\n",
    "!mkdir -p /workspace/data/output/ranking/WMD"
   ]
  },
  {
   "cell_type": "code",
   "execution_count": null,
   "metadata": {
    "tags": []
   },
   "outputs": [],
   "source": [
    "#dump\n",
    "\n",
    "with open(os.path.join(data_path,'output/ranking/WMD/cv_JDs_wmd.json'),\"w\") as f:\n",
    "    json.dump(JDs_wmd,f)\n",
    "with open(os.path.join(data_path,'output/ranking/WMD/cv_DE_wmd.json'),\"w\") as f:\n",
    "    json.dump(DE_wmd,f)"
   ]
  }
 ],
 "metadata": {
  "kernelspec": {
   "display_name": "Python 3 (ipykernel)",
   "language": "python",
   "name": "python3"
  },
  "language_info": {
   "codemirror_mode": {
    "name": "ipython",
    "version": 3
   },
   "file_extension": ".py",
   "mimetype": "text/x-python",
   "name": "python",
   "nbconvert_exporter": "python",
   "pygments_lexer": "ipython3",
   "version": "3.9.16"
  },
  "vscode": {
   "interpreter": {
    "hash": "08bab3d115f66d421a5714c32a33264a27cd931d9c4fac1dbdcf754479af7214"
   }
  }
 },
 "nbformat": 4,
 "nbformat_minor": 4
}
